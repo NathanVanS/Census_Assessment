{
 "cells": [
  {
   "cell_type": "markdown",
   "metadata": {},
   "source": [
    "**ETL Report (Data Extraction and Transformation Portion)** \n",
    "\n",
    "1. Import relevant packages and call Web API to get census data"
   ]
  },
  {
   "cell_type": "code",
   "execution_count": null,
   "metadata": {},
   "outputs": [],
   "source": [
    "import requests\n",
    "import pandas as pd\n",
    "import matplotlib.pyplot as plt\n",
    "%matplotlib inline\n",
    "import seaborn as sns\n",
    "from config import key\n",
    "aListCS = ['EMP','NAICS2017','NAICS2017_LABEL','PAYANN','FIRMPDEMP']\n",
    "aListCB = ['EMP','NAICS2017','NAICS2017_LABEL','PAYANN','TECHUSE','TECHUSE_LABEL','FIRMPDEMP']\n",
    "variablesCS = ','.join(aListCS)\n",
    "variablesCB = ','.join(aListCB)\n",
    "urlCS = f'https://api.census.gov/data/2018/abscs?get={variablesCS}&for=us:*&key={key}'\n",
    "urlCB = f'https://api.census.gov/data/2018/abstcb?get={variablesCB}&for=us:*&key={key}'\n",
    "responseCS = requests.get(urlCS).json()\n",
    "responseCB = requests.get(urlCB).json()"
   ]
  },
  {
   "cell_type": "markdown",
   "metadata": {},
   "source": [
    "2. Convert census data into pandas Dataframe"
   ]
  },
  {
   "cell_type": "code",
   "execution_count": null,
   "metadata": {},
   "outputs": [],
   "source": [
    "censusData = pd.DataFrame(responseCS)\n",
    "censusData.columns = censusData.iloc[0]\n",
    "censusData = censusData[1:]\n",
    "censusDataCB = pd.DataFrame(responseCB)\n",
    "censusDataCB.columns = censusDataCB.iloc[0]\n",
    "censusDataCB = censusDataCB[1:]"
   ]
  },
  {
   "cell_type": "markdown",
   "metadata": {},
   "source": [
    "3. Merge two Dataframes together"
   ]
  },
  {
   "cell_type": "code",
   "execution_count": null,
   "metadata": {},
   "outputs": [],
   "source": [
    "mergedCensus = censusData.merge(censusDataCB,how='inner',on='NAICS2017_LABEL')"
   ]
  },
  {
   "cell_type": "markdown",
   "metadata": {},
   "source": [
    "4. Clean the Data"
   ]
  },
  {
   "cell_type": "code",
   "execution_count": null,
   "metadata": {},
   "outputs": [],
   "source": [
    "mergedCensus = mergedCensus.loc[mergedCensus['NAICS2017_LABEL'] != 'Total for all sectors']\n",
    "mergedCensus = mergedCensus.drop(['NAICS2017_x','NAICS2017_y','us_x','us_y','TECHUSE'],axis=1)\n",
    "mergedCensus.rename(columns={'NAICS2017_LABEL':'Industry','PAYANN_y':'Annual Payroll','EMP_y':'Number of Employees','TECHUSE_LABEL':'Tech Level'\\\n",
    "    ,'EMP_x':'Total Number of Employees (Industry)', 'PAYANN_x':'Total Annual Payroll (Industry)','FIRMPDEMP_x':'Total Number of Firms','FIRMPDEMP_y':'Number of Firms'},inplace=True)\n",
    "mergedCensus[['Technology Used','Level']] = mergedCensus['Tech Level'].str.split(': ',expand=True)\n",
    "mergedCensus = mergedCensus.drop('Tech Level', axis=1)\n",
    "mergedCensus = mergedCensus.loc[~mergedCensus['Level'].isin(['Total use','Total Reporting',\"Don't know\"])]\n",
    "mergedCensus.loc[mergedCensus['Level'] == 'Tested, but did not use in production or service','Level'] = 'Tested'"
   ]
  },
  {
   "cell_type": "markdown",
   "metadata": {},
   "source": [
    "5. Transform the data"
   ]
  },
  {
   "cell_type": "code",
   "execution_count": null,
   "metadata": {},
   "outputs": [],
   "source": [
    "numberList = ['Number of Employees','Annual Payroll','Total Number of Employees (Industry)','Total Annual Payroll (Industry)','Number of Firms','Total Number of Firms']\n",
    "for i in numberList:\n",
    "    mergedCensus[i] = pd.to_numeric(mergedCensus[i])"
   ]
  },
  {
   "cell_type": "markdown",
   "metadata": {},
   "source": [
    "6. Make new calculated columns for visualizations"
   ]
  },
  {
   "cell_type": "code",
   "execution_count": null,
   "metadata": {},
   "outputs": [],
   "source": [
    "mergedCensus['Percentage of Firms'] = mergedCensus['Number of Firms']/mergedCensus['Total Number of Firms']*100\n",
    "mergedCensus['Average Salary'] = mergedCensus['Annual Payroll']/mergedCensus['Number of Employees'] "
   ]
  },
  {
   "cell_type": "markdown",
   "metadata": {},
   "source": [
    "**Visualizations**"
   ]
  },
  {
   "cell_type": "markdown",
   "metadata": {},
   "source": [
    "Make a new Dataframe for summary data"
   ]
  },
  {
   "cell_type": "code",
   "execution_count": null,
   "metadata": {},
   "outputs": [],
   "source": [
    "industry = pd.DataFrame({'Industry':mergedCensus['Industry'].unique(),'Total Annual Payroll (Industry)':\\\n",
    "    mergedCensus['Total Annual Payroll (Industry)'].unique(),'Number of Employees':mergedCensus['Total Number of Employees (Industry)'].unique()})\n",
    "industry['Average Annual Salary'] = industry['Total Annual Payroll (Industry)']/industry['Number of Employees']"
   ]
  },
  {
   "cell_type": "markdown",
   "metadata": {},
   "source": [
    "Set some common theme  and functions for all visualizations"
   ]
  },
  {
   "cell_type": "code",
   "execution_count": null,
   "metadata": {},
   "outputs": [],
   "source": [
    "size = (18,10)\n",
    "sns.set_theme(style=\"darkgrid\")\n",
    "def label_point(x, y, val, ax):\n",
    "    a = pd.concat({'x': x, 'y': y, 'val': val}, axis=1)\n",
    "    for i, point in a.iterrows():\n",
    "        ax.text(point['x'], point['y'], str(point['val']))\n",
    "PROPS = {\n",
    "    'boxprops':{'facecolor':'none', 'edgecolor':'black'},\n",
    "    'medianprops':{'color':'black'},\n",
    "    'whiskerprops':{'color':'black'},\n",
    "    'capprops':{'color':'black'}\n",
    "}"
   ]
  },
  {
   "cell_type": "markdown",
   "metadata": {},
   "source": [
    "Scatter plot for Total Annual Payroll and Total Number of Employees"
   ]
  },
  {
   "cell_type": "code",
   "execution_count": null,
   "metadata": {},
   "outputs": [],
   "source": [
    "industry.plot.scatter(x='Number of Employees',y='Total Annual Payroll (Industry)', figsize=size, s = 300, alpha = 0.5)\n",
    "plt.xlabel('Total Number of Employees (in tens of millions)', fontsize=16)\n",
    "plt.ylabel('Total Annual Payroll (in hundred of million of dollars)', fontsize=16)\n",
    "for i in industry.index:\n",
    "    plt.text(industry['Number of Employees'][i],industry['Total Annual Payroll (Industry)'][i],industry['Industry'][i])\n",
    "plt.title('Total Annual Payroll vs Total Number of Employees by Industry',fontsize=20)\n",
    "plt.show()"
   ]
  },
  {
   "cell_type": "markdown",
   "metadata": {},
   "source": [
    "Barplot on Top 10 Average Annual Salary by Industry"
   ]
  },
  {
   "cell_type": "code",
   "execution_count": null,
   "metadata": {},
   "outputs": [],
   "source": [
    "plt.figure(figsize=size)\n",
    "sortedHighIndustry = industry.sort_values(by=['Average Annual Salary'], ascending=False).head(10)\n",
    "plt.title('Top 10 Average Salary by Industry',fontsize=20)\n",
    "plt.xticks(rotation=45,ha='right')\n",
    "ax = sns.barplot(x='Industry',y='Average Annual Salary',data=sortedHighIndustry, color='#2976bb')\n",
    "plt.xlabel('Industry', fontsize=16)\n",
    "plt.ylabel('Average Salary (in thousand of dollars)', fontsize=16)\n",
    "for container in ax.containers:\n",
    "    ax.bar_label(container)\n",
    "plt.show()"
   ]
  },
  {
   "cell_type": "markdown",
   "metadata": {},
   "source": [
    "Barplot on Bot 10 Average Annual Salary by Industry"
   ]
  },
  {
   "cell_type": "code",
   "execution_count": null,
   "metadata": {},
   "outputs": [],
   "source": [
    "plt.figure(figsize=size)\n",
    "sortedLowIndustry = industry.sort_values(by=['Average Annual Salary']).head(10)\n",
    "plt.title('Bottom 10 Average Salary by Industry',fontsize=20)\n",
    "plt.xticks(rotation=45,ha='right')\n",
    "ax = sns.barplot(x='Industry',y='Average Annual Salary',data=sortedLowIndustry, color='#2976bb')\n",
    "plt.xlabel('Industry', fontsize=16)\n",
    "plt.ylabel('Average Salary (in thousand of dollars)', fontsize=16)\n",
    "for container in ax.containers:\n",
    "    ax.bar_label(container)\n",
    "plt.show()"
   ]
  },
  {
   "cell_type": "markdown",
   "metadata": {},
   "source": [
    "Set Subset for AI and Cloud-Based Technology"
   ]
  },
  {
   "cell_type": "code",
   "execution_count": null,
   "metadata": {},
   "outputs": [],
   "source": [
    "ai = mergedCensus.loc[mergedCensus['Technology Used']=='Artificial Intelligence']\n",
    "cb = mergedCensus.loc[mergedCensus['Technology Used']=='Cloud-Based']"
   ]
  },
  {
   "cell_type": "markdown",
   "metadata": {},
   "source": [
    "Boxplot for Average Salary of Industries by Level of Artificial Intelligence Used "
   ]
  },
  {
   "cell_type": "code",
   "execution_count": null,
   "metadata": {},
   "outputs": [],
   "source": [
    "plt.figure(figsize=size)\n",
    "ax = sns.boxplot(x='Level',y='Average Salary',data=ai, order=['Did not use','Tested','Low use','Moderate use','High use'], **PROPS)\n",
    "plt.xlabel('Tech Level', fontsize=16)\n",
    "plt.ylabel('Average Annual Salary (in thousand of dollars)', fontsize=16)\n",
    "plt.title('Average Salary of Industries by Level of Artificial Intelligence Used',fontsize=20)\n",
    "plt.show()"
   ]
  },
  {
   "cell_type": "markdown",
   "metadata": {},
   "source": [
    "Boxplot for Average Salary of Industries by Level of Cloud-Based Technology Used "
   ]
  },
  {
   "cell_type": "code",
   "execution_count": null,
   "metadata": {},
   "outputs": [],
   "source": [
    "plt.figure(figsize=size)\n",
    "ax = sns.boxplot(x='Level',y='Average Salary',data=cb, order=['Did not use','Tested','Low use','Moderate use','High use'],**PROPS)\n",
    "plt.xlabel('Level of Use', fontsize=16)\n",
    "plt.ylabel('Average Annual Salary (in thousand of dollars)', fontsize=16)\n",
    "plt.title('Average Salary of Industries by Level of Cloud-Based Technology Used',fontsize=20)\n",
    "plt.show()"
   ]
  },
  {
   "cell_type": "markdown",
   "metadata": {},
   "source": [
    "Observe certain level of use in technology by filtering the dataframe"
   ]
  },
  {
   "cell_type": "code",
   "execution_count": null,
   "metadata": {},
   "outputs": [],
   "source": [
    "industryAverage = industry[['Industry','Average Annual Salary']]\n",
    "highUseAI = ai.loc[ai['Level']=='High use']\n",
    "highUseAI = highUseAI.loc[highUseAI['Percentage of Firms'] > 0]\n",
    "\n",
    "noUseAI = ai.loc[ai['Level']=='Did not use']\n",
    "noUseAI = noUseAI.loc[noUseAI['Percentage of Firms'] > 0]\n",
    "\n",
    "testUseAI = ai.loc[ai['Level']=='Tested']\n",
    "testUseAI = testUseAI.loc[testUseAI['Percentage of Firms'] > 0]\n",
    "\n",
    "highUseCloud = cb.loc[cb['Level']=='High use']\n",
    "highUseCloud = highUseCloud.loc[highUseCloud['Percentage of Firms'] > 0]\n",
    "\n",
    "noUseCloud = cb.loc[cb['Level']=='Did not use']\n",
    "noUseCloud = noUseCloud.loc[noUseCloud['Percentage of Firms'] > 0]\n",
    "\n",
    "testUseCloud = cb.loc[cb['Level']=='Tested']\n",
    "testUseCloud = testUseCloud.loc[testUseCloud['Percentage of Firms'] > 0]"
   ]
  },
  {
   "cell_type": "markdown",
   "metadata": {},
   "source": [
    "Bar Chart on Top 10 Industry with Highest Percentage of Firms Uses A High Level of AI"
   ]
  },
  {
   "cell_type": "code",
   "execution_count": null,
   "metadata": {},
   "outputs": [],
   "source": [
    "# Sort \n",
    "sortedHighUseAI = highUseAI.sort_values(by=['Percentage of Firms'], ascending=False).head(10)\n",
    "sortedHighUseAI = sortedHighUseAI.merge(industryAverage,how='inner',on='Industry')\n",
    "ax = sortedHighUseAI.plot.bar(x='Industry',y='Percentage of Firms',rot=45,figsize=size,legend=False)\n",
    "# Add Number over each bar\n",
    "for container in ax.containers:\n",
    "    ax.bar_label(container)\n",
    "plt.title('Top 10 Industry with Highest Percentage of Firms Uses A High Level of AI',fontsize=20)\n",
    "plt.xlabel('Industry',fontsize=16)\n",
    "plt.xticks(ha='right')\n",
    "plt.ylabel('Percentage of Firms',fontsize=16)\n",
    "plt.show()"
   ]
  },
  {
   "cell_type": "markdown",
   "metadata": {},
   "source": [
    "Clustered Bar Chart on the Difference in Average Annual Salary with High Use of AI"
   ]
  },
  {
   "cell_type": "code",
   "execution_count": null,
   "metadata": {},
   "outputs": [],
   "source": [
    "ax = sortedHighUseAI.plot(x='Industry',y=['Average Annual Salary','Average Salary'], kind='bar', figsize=size,rot = 45)\n",
    "ax.legend(['Industry Average','Industry Average with A High Level of AI'])\n",
    "plt.xticks(ha='right')\n",
    "plt.xlabel('industry', fontsize=16)\n",
    "plt.ylabel('Average Annual Salary (in Thousand of Dollars)',fontsize=16)\n",
    "plt.title('Comparison on Average Annual Salary with a High Level Usage of AI', fontsize = 20)\n",
    "plt.show()"
   ]
  },
  {
   "cell_type": "markdown",
   "metadata": {},
   "source": [
    "Bar Chart on Top 10 Industry with Highest Percentage of Firms Do not Use AI"
   ]
  },
  {
   "cell_type": "code",
   "execution_count": null,
   "metadata": {},
   "outputs": [],
   "source": [
    "# Sort \n",
    "sortedNoUseAI = noUseAI.sort_values(by=['Percentage of Firms'], ascending=False).head(10)\n",
    "sortedNoUseAI = sortedNoUseAI.merge(industryAverage,how='inner',on='Industry')\n",
    "ax = sortedNoUseAI.plot.bar(x='Industry',y='Percentage of Firms',rot=45,figsize=size,legend=False)\n",
    "# Add Number over each bar\n",
    "for container in ax.containers:\n",
    "    ax.bar_label(container)\n",
    "plt.title('Top 10 Industry with Highest Percentage of Firms Do not Use AI',fontsize=20)\n",
    "plt.xlabel('Industry',fontsize=16)\n",
    "plt.xticks(ha='right')\n",
    "plt.ylabel('Percentage of Firms',fontsize=16)\n",
    "plt.show()"
   ]
  },
  {
   "cell_type": "markdown",
   "metadata": {},
   "source": [
    "Clustered Bar Chart on the Difference in Average Annual Salary with No Use of AI"
   ]
  },
  {
   "cell_type": "code",
   "execution_count": null,
   "metadata": {},
   "outputs": [],
   "source": [
    "ax = sortedNoUseAI.plot(x='Industry',y=['Average Annual Salary','Average Salary'], kind='bar', figsize=size,rot = 45)\n",
    "ax.legend(['Industry Average','Industry Average with No Usage of AI'])\n",
    "plt.xticks(ha='right')\n",
    "plt.xlabel('industry', fontsize=16)\n",
    "plt.ylabel('Average Annual Salary (in Thousand of Dollars)',fontsize=16)\n",
    "plt.title('Comparison on Average Annual Salary with No Usage of AI', fontsize = 20)\n",
    "plt.show()"
   ]
  },
  {
   "cell_type": "markdown",
   "metadata": {},
   "source": [
    "Bar Chart on Top 10 Industry with Highest Percentage of Firms Tested AI"
   ]
  },
  {
   "cell_type": "code",
   "execution_count": null,
   "metadata": {},
   "outputs": [],
   "source": [
    "# Sort \n",
    "sortedTestUseAI = testUseAI.sort_values(by=['Percentage of Firms'], ascending=False).head(10)\n",
    "sortedTestUseAI = sortedTestUseAI.merge(industryAverage,how='inner',on='Industry')\n",
    "ax = sortedTestUseAI.plot.bar(x='Industry',y='Percentage of Firms',rot=45,figsize=size,legend=False)\n",
    "# Add Number over each bar\n",
    "for container in ax.containers:\n",
    "    ax.bar_label(container)\n",
    "plt.title('Top 10 Industry with Highest Percentage of Firms Tested AI',fontsize=20)\n",
    "plt.xlabel('Industry',fontsize=16)\n",
    "plt.xticks(ha='right')\n",
    "plt.ylabel('Percentage of Firms',fontsize=16)\n",
    "plt.show()"
   ]
  },
  {
   "cell_type": "markdown",
   "metadata": {},
   "source": [
    "Clustered Bar Chart on the Difference in Average Annual Salary with Tested AI"
   ]
  },
  {
   "cell_type": "code",
   "execution_count": null,
   "metadata": {},
   "outputs": [],
   "source": [
    "ax = sortedTestUseAI.plot(x='Industry',y=['Average Annual Salary','Average Salary'], kind='bar', figsize=size,rot = 45)\n",
    "ax.legend(['Industry Average','Industry Average with Tested AI'])\n",
    "plt.xticks(ha='right')\n",
    "plt.xlabel('industry', fontsize=16)\n",
    "plt.ylabel('Average Annual Salary (in Thousand of Dollars)',fontsize=16)\n",
    "plt.title('Comparison on Average Annual Salary with Tested AI', fontsize = 20)\n",
    "plt.show()"
   ]
  },
  {
   "cell_type": "markdown",
   "metadata": {},
   "source": [
    "Bar Chart on Top 10 Industry with Highest Percentage of Firms Uses A High Level of Cloud-Based Technology"
   ]
  },
  {
   "cell_type": "code",
   "execution_count": null,
   "metadata": {},
   "outputs": [],
   "source": [
    "# Sort \n",
    "sortedHighUseCloud = highUseCloud.sort_values(by=['Percentage of Firms'], ascending=False).head(10)\n",
    "sortedHighUseCloud = sortedHighUseCloud.merge(industryAverage,how='inner',on='Industry')\n",
    "ax = sortedHighUseCloud.plot.bar(x='Industry',y='Percentage of Firms',rot=45,figsize=size,legend=False)\n",
    "# Add Number over each bar\n",
    "for container in ax.containers:\n",
    "    ax.bar_label(container)\n",
    "plt.title('Top 10 Industry with Highest Percentage of Firms Uses A High Level of Cloud-Based Technology',fontsize=20)\n",
    "plt.xlabel('Industry',fontsize=16)\n",
    "plt.xticks(ha='right')\n",
    "plt.ylabel('Percentage of Firms',fontsize=16)\n",
    "plt.show()"
   ]
  },
  {
   "cell_type": "markdown",
   "metadata": {},
   "source": [
    "Clustered Bar Chart on the Difference in Average Annual Salary with High Use of Cloud-Based Technology"
   ]
  },
  {
   "cell_type": "code",
   "execution_count": null,
   "metadata": {},
   "outputs": [],
   "source": [
    "ax = sortedHighUseCloud.plot(x='Industry',y=['Average Annual Salary','Average Salary'], kind='bar', figsize=size,rot = 45)\n",
    "ax.legend(['Industry Average','Industry Average with A High Level of Cloud'])\n",
    "plt.xticks(ha='right')\n",
    "plt.xlabel('industry', fontsize=16)\n",
    "plt.ylabel('Average Annual Salary (in Thousand of Dollars)',fontsize=16)\n",
    "plt.title('Comparison on Average Annual Salary with a High Level Usage of Cloud-Based Technology', fontsize = 20)\n",
    "plt.show()"
   ]
  },
  {
   "cell_type": "markdown",
   "metadata": {},
   "source": [
    "Bar Chart on Top 10 Industry with Highest Percentage of Firms Do not Use Cloud Based Technology"
   ]
  },
  {
   "cell_type": "code",
   "execution_count": null,
   "metadata": {},
   "outputs": [],
   "source": [
    "# Sort \n",
    "sortedNoUseCloud = noUseCloud.sort_values(by=['Percentage of Firms'], ascending=False).head(10)\n",
    "sortedNoUseCloud = sortedNoUseCloud.merge(industryAverage,how='inner',on='Industry')\n",
    "ax = sortedNoUseCloud.plot.bar(x='Industry',y='Percentage of Firms',rot=45,figsize=size,legend=False)\n",
    "# Add Number over each bar\n",
    "for container in ax.containers:\n",
    "    ax.bar_label(container)\n",
    "plt.title('Top 10 Industry with Highest Percentage of Firms Do not Use Cloud-Based Technology',fontsize=20)\n",
    "plt.xlabel('Industry',fontsize=16)\n",
    "plt.xticks(ha='right')\n",
    "plt.ylabel('Percentage of Firms',fontsize=16)\n",
    "plt.show()"
   ]
  },
  {
   "cell_type": "markdown",
   "metadata": {},
   "source": [
    "Clustered Bar Chart on the Difference in Average Annual Salary with No Use of Cloud-Based Technology"
   ]
  },
  {
   "cell_type": "code",
   "execution_count": null,
   "metadata": {},
   "outputs": [],
   "source": [
    "ax = sortedNoUseCloud.plot(x='Industry',y=['Average Annual Salary','Average Salary'], kind='bar', figsize=size,rot = 45)\n",
    "ax.legend(['Industry Average','Industry Average with No Use of Cloud'])\n",
    "plt.xticks(ha='right')\n",
    "plt.xlabel('industry', fontsize=16)\n",
    "plt.ylabel('Average Annual Salary (in Thousand of Dollars)',fontsize=16)\n",
    "plt.title('Comparison on Average Annual Salary with No Usage of Cloud-Based Technology', fontsize = 20)\n",
    "plt.show()"
   ]
  },
  {
   "cell_type": "markdown",
   "metadata": {},
   "source": [
    "Bar Chart on Top 10 Industry with Highest Percentage of Firms Tested Cloud-Based Technology"
   ]
  },
  {
   "cell_type": "code",
   "execution_count": null,
   "metadata": {},
   "outputs": [],
   "source": [
    "# Sort \n",
    "sortedTestUseCloud = testUseCloud.sort_values(by=['Percentage of Firms'], ascending=False).head(10)\n",
    "sortedTestUseCloud = sortedTestUseCloud.merge(industryAverage,how='inner',on='Industry')\n",
    "ax = sortedTestUseCloud.plot.bar(x='Industry',y='Percentage of Firms',rot=45,figsize=size,legend=False)\n",
    "# Add Number over each bar\n",
    "for container in ax.containers:\n",
    "    ax.bar_label(container)\n",
    "plt.title('Top 10 Industry with Highest Percentage of Firms Tested Cloud-Based Technology',fontsize=20)\n",
    "plt.xlabel('Industry',fontsize=16)\n",
    "plt.xticks(ha='right')\n",
    "plt.ylabel('Percentage of Firms',fontsize=16)\n",
    "plt.show()"
   ]
  },
  {
   "cell_type": "markdown",
   "metadata": {},
   "source": [
    "Clustered Bar Chart on the Difference in Average Annual Salary with Tested of Cloud-Based Technology"
   ]
  },
  {
   "cell_type": "code",
   "execution_count": null,
   "metadata": {},
   "outputs": [],
   "source": [
    "ax = sortedTestUseCloud.plot(x='Industry',y=['Average Annual Salary','Average Salary'], kind='bar', figsize=size,rot = 45)\n",
    "ax.legend(['Industry Average','Industry Average with Tested Cloud'])\n",
    "plt.xticks(ha='right')\n",
    "plt.xlabel('industry', fontsize=16)\n",
    "plt.ylabel('Average Annual Salary (in Thousand of Dollars)',fontsize=16)\n",
    "plt.title('Comparison on Average Annual Salary with Tested Cloud-Based Technology', fontsize = 20)\n",
    "plt.show()"
   ]
  }
 ],
 "metadata": {
  "kernelspec": {
   "display_name": "Python 3.9.13 64-bit",
   "language": "python",
   "name": "python3"
  },
  "language_info": {
   "codemirror_mode": {
    "name": "ipython",
    "version": 3
   },
   "file_extension": ".py",
   "mimetype": "text/x-python",
   "name": "python",
   "nbconvert_exporter": "python",
   "pygments_lexer": "ipython3",
   "version": "3.9.13"
  },
  "orig_nbformat": 4,
  "vscode": {
   "interpreter": {
    "hash": "2469a70536e4d2335a2ea8907942d0699c37342a371ac185bdb5b0aa6f073890"
   }
  }
 },
 "nbformat": 4,
 "nbformat_minor": 2
}
